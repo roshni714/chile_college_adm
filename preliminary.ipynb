{
 "cells": [
  {
   "cell_type": "code",
   "execution_count": 1,
   "id": "a64e2739",
   "metadata": {},
   "outputs": [],
   "source": [
    "import matplotlib.pyplot as plt\n",
    "import pandas as pd\n",
    "import numpy as np\n",
    "from tqdm import tqdm"
   ]
  },
  {
   "cell_type": "code",
   "execution_count": 2,
   "id": "4a81867b",
   "metadata": {},
   "outputs": [],
   "source": [
    "def create_translation_dic(sheet_name):\n",
    "    codebook_df = pd.read_excel(\"~/chile_data_admissions/codebook_PSU.xlsx\", sheet_name)\n",
    "    temp_df = codebook_df[codebook_df['Variable'].notna()]\n",
    "    spanish_key = temp_df[\"Variable\"]\n",
    "    english_key = temp_df['Description (English)']\n",
    "    dic = dict(zip(spanish_key, english_key))\n",
    "    return dic\n",
    "\n",
    "relevant_keys=['Unique code for program',\n",
    "               'Year of admission as a freshman',\n",
    "               'Semester of admission as a freshman',\n",
    "               'Name of the title conferred to the student',\n",
    "               'Date of the title (YYYYMMDD)',\n",
    "               'Total theoretical duration of the degree (in semesters)']"
   ]
  },
  {
   "cell_type": "code",
   "execution_count": 3,
   "id": "73654be6",
   "metadata": {},
   "outputs": [],
   "source": [
    "def get_df(adm_year, grad_mapper):\n",
    "    all_df = []\n",
    "    for i in tqdm(range(2007, 2021)):\n",
    "        # Read in data\n",
    "        df = pd.read_csv(\"~/chile_data_graduation/Titulados-de-Educacion-Superior-{}/Titulados_Educacion_Superior_{}.csv\".format(i,i), sep=\";\",\n",
    "                        dtype={\"MRUN\": 'str' , \"EDAD_ALU\":'str', 'cod_carrera': 'str', 'version': 'str', 'cod_sede':'str', \n",
    "                               'dur_estudio_carr':'str', 'dur_proceso_tit':'str', 'dur_total_carr':'str' })\n",
    "        # Replace empty strings with NaN\n",
    "        df = df.replace(r'\\s+',np.nan,regex=True).replace('',np.nan)\n",
    "        \n",
    "        # Translate columns\n",
    "        df.columns = map(str.upper, df.columns)\n",
    "        df = df.rename(columns=grad_mapper)\n",
    "        \n",
    "        \n",
    "        # Drop rows that have NaN in important columns\n",
    "        df = df[df['Year of admission as a freshman'].notna()]\n",
    "        df = df[df['Semester of admission as a freshman'].notna()]\n",
    "        df = df[df['Date of the title (YYYYMMDD)'].notna()]\n",
    "        df = df[df['Total theoretical duration of the degree (in semesters)'].notna()]\n",
    "        \n",
    "        #Only look at students with admission year equal to adm_year\n",
    "        df = df[df['Year of admission as a freshman']==adm_year]\n",
    "        df = df[relevant_keys]\n",
    "        df.reset_index(inplace=True, drop=True)\n",
    "        all_df.append(df)\n",
    "        \n",
    "    main_df = pd.concat(all_df, ignore_index=True)\n",
    "    return main_df"
   ]
  },
  {
   "cell_type": "code",
   "execution_count": 4,
   "id": "8d13f8cd",
   "metadata": {},
   "outputs": [],
   "source": [
    "def graduate_on_time(df):\n",
    "    adm_year = df['Year of admission as a freshman'].astype(\"int\").to_numpy()\n",
    "    deg_date = df['Date of the title (YYYYMMDD)']\n",
    "    length_degree = df['Total theoretical duration of the degree (in semesters)'].astype(\"int\").to_numpy()/2\n",
    "    deg_year = np.array([int(str(x)[:4]) for x in deg_date])\n",
    "    on_time_grad = ((deg_year - adm_year) <= length_degree)\n",
    "    if len(on_time_grad) > 1:\n",
    "        grad_rate = sum(on_time_grad)/len(on_time_grad)\n",
    "    else:\n",
    "        grad_rate = 0.\n",
    "    n_total = len(on_time_grad) \n",
    "    \n",
    "    return grad_rate, n_total"
   ]
  },
  {
   "cell_type": "code",
   "execution_count": null,
   "id": "5ee4d068",
   "metadata": {},
   "outputs": [
    {
     "name": "stdout",
     "output_type": "stream",
     "text": [
      "2003\n"
     ]
    },
    {
     "name": "stderr",
     "output_type": "stream",
     "text": [
      "100%|███████████████████████████████████████████| 14/14 [01:25<00:00,  6.13s/it]\n"
     ]
    },
    {
     "name": "stdout",
     "output_type": "stream",
     "text": [
      "2004\n"
     ]
    },
    {
     "name": "stderr",
     "output_type": "stream",
     "text": [
      "100%|███████████████████████████████████████████| 14/14 [01:24<00:00,  6.05s/it]\n"
     ]
    },
    {
     "name": "stdout",
     "output_type": "stream",
     "text": [
      "2005\n"
     ]
    },
    {
     "name": "stderr",
     "output_type": "stream",
     "text": [
      " 71%|██████████████████████████████▋            | 10/14 [00:53<00:26,  6.73s/it]"
     ]
    }
   ],
   "source": [
    "years = list(range(2003, 2018))\n",
    "totals = []\n",
    "grad_rates = []\n",
    "grad_mapper = create_translation_dic(\"Graduation\")\n",
    "\n",
    "for year in years:\n",
    "    print(year)\n",
    "    df = get_df(year,  grad_mapper=grad_mapper)\n",
    "    grad_rate, n_total = graduate_on_time(df)\n",
    "    grad_rates.append(grad_rate)\n",
    "    totals.append(n_total)"
   ]
  },
  {
   "cell_type": "code",
   "execution_count": null,
   "id": "ba5d8237",
   "metadata": {},
   "outputs": [],
   "source": [
    "plt.plot(years, grad_rates)"
   ]
  },
  {
   "cell_type": "code",
   "execution_count": null,
   "id": "a0c33be4",
   "metadata": {},
   "outputs": [],
   "source": [
    "plt.plot(years, totals)"
   ]
  },
  {
   "cell_type": "code",
   "execution_count": 16,
   "id": "ba4f0e04",
   "metadata": {},
   "outputs": [],
   "source": []
  },
  {
   "cell_type": "code",
   "execution_count": null,
   "id": "d9c0dc0b",
   "metadata": {},
   "outputs": [],
   "source": []
  }
 ],
 "metadata": {
  "kernelspec": {
   "display_name": "Python 3 (ipykernel)",
   "language": "python",
   "name": "python3"
  },
  "language_info": {
   "codemirror_mode": {
    "name": "ipython",
    "version": 3
   },
   "file_extension": ".py",
   "mimetype": "text/x-python",
   "name": "python",
   "nbconvert_exporter": "python",
   "pygments_lexer": "ipython3",
   "version": "3.8.12"
  }
 },
 "nbformat": 4,
 "nbformat_minor": 5
}
