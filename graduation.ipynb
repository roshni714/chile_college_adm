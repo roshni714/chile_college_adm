{
 "cells": [
  {
   "cell_type": "code",
   "execution_count": 1,
   "id": "a64e2739",
   "metadata": {},
   "outputs": [],
   "source": [
    "import matplotlib.pyplot as plt\n",
    "import pandas as pd\n",
    "import numpy as np\n",
    "from tqdm import tqdm\n",
    "import datetime\n",
    "from utils import create_translation_dic"
   ]
  },
  {
   "cell_type": "code",
   "execution_count": 5,
   "id": "73654be6",
   "metadata": {},
   "outputs": [],
   "source": [
    "def get_df(adm_year, num_sem, grad_mapper):\n",
    "    relevant_keys=['Student identifier',\n",
    "                   'Unique code for program',\n",
    "                   'Year of admission to the program',\n",
    "                   'Semester of admission to the program',\n",
    "                   'Name of the title conferred to the student',\n",
    "                   'Date of the title (YYYYMMDD)',\n",
    "                   'Total theoretical duration of the degree (in semesters)']\n",
    "    \n",
    "    all_df = []\n",
    "    n_rows_dropped = 0.\n",
    "    n_rows_total = 0.\n",
    "    for i in tqdm(range(2007, min(adm_year + 8, 2021))):\n",
    "        # Read in data\n",
    "        df = pd.read_csv(\"data/graduation/Titulados-de-Educacion-Superior-{}/Titulados_Educacion_Superior_{}.csv\".format(i,i), sep=\";\",\n",
    "                        dtype={\"MRUN\": 'str' , \"EDAD_ALU\":'str', 'cod_carrera': 'str', 'version': 'str', 'cod_sede':'str', \n",
    "                               'dur_estudio_carr':'str', 'dur_proceso_tit':'str', 'dur_total_carr':'str' })\n",
    "        # Replace empty strings with NaN\n",
    "        df = df.replace(r'\\s+',np.nan,regex=True).replace('',np.nan)\n",
    "        df = df.fillna(value=np.nan)\n",
    "        \n",
    "        # Translate columns\n",
    "        df.columns = map(str.upper, df.columns)\n",
    "        df = df.rename(columns=grad_mapper)\n",
    "        \n",
    "        #Only look at students with admission year equal to adm_year\n",
    "        df = df[df['Year of admission to the program']==adm_year]\n",
    "        if num_sem != None:\n",
    "            df = df[df['Total theoretical duration of the degree (in semesters)']==\"{}\".format(num_sem)]\n",
    "        \n",
    "        n_rows_dropped += len(df)\n",
    "        n_rows_total += len(df)\n",
    "        # Drop rows that have NaN in important columns\n",
    "        df = df[df['Year of admission to the program'].notna()]\n",
    "        df = df[df['Semester of admission to the program'].notna()]\n",
    "        df = df[df['Date of the title (YYYYMMDD)'].notna()]\n",
    "        df = df[df['Total theoretical duration of the degree (in semesters)'].notna()]\n",
    "        df = df[df['Student identifier'].notna()]\n",
    "        \n",
    "        \n",
    "        df = df[relevant_keys]\n",
    "        df.reset_index(inplace=True, drop=True)\n",
    "        n_rows_dropped -= len(df)\n",
    "        all_df.append(df)\n",
    "        \n",
    "    main_df = pd.concat(all_df, ignore_index=True)\n",
    "    return main_df, n_rows_dropped, n_rows_original"
   ]
  },
  {
   "cell_type": "code",
   "execution_count": 3,
   "id": "8d13f8cd",
   "metadata": {},
   "outputs": [],
   "source": [
    "def graduate_on_time(df):\n",
    "    adm_sem = df['Semester of admission to the program'].astype(\"int\").to_numpy()\n",
    "    adm_year = df['Year of admission to the program'].astype(\"int\").to_numpy()\n",
    "    \n",
    "    month_dic = {1:3, 2:7}\n",
    "    adm_month = [*map(month_dic.get, adm_sem)]\n",
    "    \n",
    "    adm_dates = [datetime.date(year=adm_year[i], month=adm_month[i], day=1) for i in range(len(adm_year))]\n",
    "    deg_date = df['Date of the title (YYYYMMDD)'].astype(\"str\")\n",
    "    deg_dates = [datetime.date(year=int(x[:4]), month=int(x[4:6]), day=int(x[6:])) for x in deg_date ]\n",
    "    durations = np.array([round((deg_dates[i] - adm_dates[i]).days/365, 1) for i in range(len(adm_dates))])\n",
    "    \n",
    "    length_degree = df['Total theoretical duration of the degree (in semesters)'].astype(\"int\").to_numpy()/2\n",
    "    on_time_grad = (durations <= length_degree)\n",
    "    if len(on_time_grad) > 1:\n",
    "        grad_rate = sum(on_time_grad)/len(on_time_grad)\n",
    "    else:\n",
    "        grad_rate = 0.\n",
    "    n = len(on_time_grad) \n",
    "    \n",
    "    return grad_rate, n"
   ]
  },
  {
   "cell_type": "code",
   "execution_count": null,
   "id": "5ee4d068",
   "metadata": {},
   "outputs": [
    {
     "name": "stderr",
     "output_type": "stream",
     "text": [
      "\r",
      "  0%|                                                     | 0/8 [00:00<?, ?it/s]"
     ]
    }
   ],
   "source": [
    "years = list(range(2007, 2016))\n",
    "num_sems=[None]\n",
    "dic = {}\n",
    "for num_sem in num_sems:\n",
    "    dic[num_sem] = {\"n\": [], \"grad_rates\": [], \"n_rows_dropped\": [], \"n_rows_original\": []}\n",
    "    \n",
    "grad_mapper = create_translation_dic(\"Graduation\")\n",
    "\n",
    "\n",
    "for num_sem in num_sems:\n",
    "    for year in years:\n",
    "        df, n_rows_dropped, n_rows_original = get_df(int(year), num_sem, grad_mapper=grad_mapper)\n",
    "        grad_rate, n = graduate_on_time(df)\n",
    "        dic[num_sem][\"n\"].append(n)\n",
    "        dic[num_sem][\"grad_rates\"].append(grad_rate)\n",
    "        dic[num_sem][\"n_rows_dropped\"].append(n_rows_dropped)\n",
    "        dic[num_sem][\"n_rows_original\"].append(n_rows_original)"
   ]
  },
  {
   "cell_type": "code",
   "execution_count": null,
   "id": "ba5d8237",
   "metadata": {},
   "outputs": [],
   "source": [
    "for num_sem in num_sems:\n",
    "    fig, ax = plt.subplots(1, 4, figsize=(30, 7))\n",
    "    if num_sem == None:\n",
    "        name= \"All Programs\"\n",
    "    else:\n",
    "        name = \"{}-Semester Programs\".format(num_sem)\n",
    "    plt.suptitle(\"On-time Graduation Among Graduates Analysis over {}\".format(name), fontsize=15)\n",
    "    \n",
    "    ax[0].plot(years, dic[num_sem][\"grad_rates\"], marker=\"o\")\n",
    "    ax[0].set_ylabel(\"On-time Graduation Rate Over Graduated Students\")\n",
    "    ax[0].set_title(\"Graduation Rate per Cohort\".format(num_sem))\n",
    "    \n",
    "    ax[1].plot(years, dic[num_sem][\"n\"], marker=\"o\")\n",
    "    ax[1].set_ylabel(\"Number of Students Included\")\n",
    "    ax[1].set_title(\"Number of Students Included per Cohort \\n (included in analysis)\")\n",
    "    \n",
    "    ax[2].plot(years, dic[num_sem][\"n_rows_dropped\"], marker=\"o\")\n",
    "    ax[2].set_ylabel(\"Number of Students Dropped\")\n",
    "    ax[2].set_title(\"Number of Students Dropped per Cohort\\n (removed from analysis bc missing data)\")\n",
    "    \n",
    "    ax[3].plot(years, dic[num_sem][\"n_rows_original\"], marker=\"o\")\n",
    "    ax[3].set_ylabel(\"Number of Students Total\")\n",
    "    ax[3].set_title(\"Number of Students Total per Cohort\")\n",
    "    \n",
    "    for i in range(4):\n",
    "        ax[i].set_xlabel(\"Admission Year\")\n",
    "        \n",
    "    plt.savefig(\"figs/{}.pdf\".format(name.lower()))\n",
    "    plt.show()\n",
    "    plt.close()"
   ]
  },
  {
   "cell_type": "code",
   "execution_count": null,
   "id": "ba4f0e04",
   "metadata": {},
   "outputs": [],
   "source": []
  },
  {
   "cell_type": "code",
   "execution_count": null,
   "id": "d9c0dc0b",
   "metadata": {},
   "outputs": [],
   "source": []
  }
 ],
 "metadata": {
  "kernelspec": {
   "display_name": "Python 3 (ipykernel)",
   "language": "python",
   "name": "python3"
  },
  "language_info": {
   "codemirror_mode": {
    "name": "ipython",
    "version": 3
   },
   "file_extension": ".py",
   "mimetype": "text/x-python",
   "name": "python",
   "nbconvert_exporter": "python",
   "pygments_lexer": "ipython3",
   "version": "3.8.12"
  }
 },
 "nbformat": 4,
 "nbformat_minor": 5
}
