{
 "cells": [
  {
   "cell_type": "code",
   "execution_count": 63,
   "id": "7eb70187",
   "metadata": {},
   "outputs": [],
   "source": [
    "import matplotlib.pyplot as plt\n",
    "import pandas as pd\n",
    "import numpy as np\n",
    "from tqdm import tqdm\n",
    "from utils import create_translation_dic"
   ]
  },
  {
   "cell_type": "code",
   "execution_count": 64,
   "id": "e73c5548",
   "metadata": {},
   "outputs": [],
   "source": [
    "def get_enrollment_df(adm_year, translation_mapper):\n",
    "    relevant_keys=['Masked ID for student','Year of academic process for admission']\n",
    "    all_df = []\n",
    "    # Read in data\n",
    "    df = pd.read_csv(\"data/admissions/D_PSU_Matrícula/D_MATRICULA_PSU_{}_PRIV_MRUN.csv\".format(adm_year), sep=\";\", encoding='latin-1')\n",
    "    # Replace empty strings with NaN\n",
    "    df = df.replace(r'\\s+',np.nan,regex=True).replace('',np.nan)\n",
    "\n",
    "    # Translate columns\n",
    "    df.columns = map(str.upper, df.columns)\n",
    "    df = df.rename(columns={'AÑO_PROCESO': 'ANYO_PROCESO', \n",
    "                            'CODIGO_CARRERA': 'CÓDIGO_CARRERA', \n",
    "                            'SEDE_CARRERA': 'SEDE', \n",
    "                            'LUGAR':'LUGAR_EN_LA_LISTA',\n",
    "                            'POND_AÑO_ACAD':'POND_ANYO_ACAD',\n",
    "                            'AÃO_PROCESO':'ANYO_PROCESO',\n",
    "                            'POND_AÃO_ACAD': 'POND_ANYO_ACAD',\n",
    "                            'Ï»¿TIPO_IDENTIFICACION': \"TIPO_IDENTIFICACION\"\n",
    "                           })\n",
    "    df = df.rename(columns=translation_mapper)\n",
    "\n",
    "    #Only look at students with admission year equal to adm_year\n",
    "    df = df[df['Year of academic process for admission']==adm_year]\n",
    "    df = df[relevant_keys]\n",
    "    df.reset_index(inplace=True, drop=True)\n",
    "    all_df.append(df)\n",
    "        \n",
    "    main_df = pd.concat(all_df, ignore_index=True)\n",
    "    return main_df"
   ]
  },
  {
   "cell_type": "code",
   "execution_count": 65,
   "id": "0abf720a",
   "metadata": {},
   "outputs": [],
   "source": [
    "years = list(range(2007, 2016))\n",
    "enrollment_mapper = create_translation_dic(\"Enrollment\")\n",
    "n_enrolled = []\n",
    "\n",
    "for year in years:\n",
    "    df = get_enrollment_df(int(year), translation_mapper=enrollment_mapper)\n",
    "    n_enrolled.append(len(df))"
   ]
  },
  {
   "cell_type": "code",
   "execution_count": 66,
   "id": "f2656a59",
   "metadata": {},
   "outputs": [
    {
     "data": {
      "image/png": "[encoded data removed]",
      "text/plain": [
       "<Figure size 432x288 with 1 Axes>"
      ]
     },
     "metadata": {
      "needs_background": "light"
     },
     "output_type": "display_data"
    }
   ],
   "source": [
    "plt.plot(years, n_enrolled, marker=\"o\")\n",
    "plt.xlabel(\"Admission Year\")\n",
    "plt.ylabel(\"Number of Students\")\n",
    "plt.title(\"Number of Students Enrolled per Cohort\")\n",
    "plt.savefig(\"figs/enrollment.pdf\")"
   ]
  },
  {
   "cell_type": "code",
   "execution_count": null,
   "id": "79d49e8e",
   "metadata": {},
   "outputs": [],
   "source": []
  }
 ],
 "metadata": {
  "kernelspec": {
   "display_name": "Python 3 (ipykernel)",
   "language": "python",
   "name": "python3"
  },
  "language_info": {
   "codemirror_mode": {
    "name": "ipython",
    "version": 3
   },
   "file_extension": ".py",
   "mimetype": "text/x-python",
   "name": "python",
   "nbconvert_exporter": "python",
   "pygments_lexer": "ipython3",
   "version": "3.8.12"
  }
 },
 "nbformat": 4,
 "nbformat_minor": 5
}
